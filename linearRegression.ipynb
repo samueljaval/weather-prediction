{
  "nbformat": 4,
  "nbformat_minor": 0,
  "metadata": {
    "colab": {
      "name": "linearRegression.ipynb",
      "provenance": [],
      "collapsed_sections": [],
      "authorship_tag": "ABX9TyP5yIYl5ZjhzYWhv4X9UWVe",
      "include_colab_link": true
    },
    "kernelspec": {
      "name": "python3",
      "display_name": "Python 3"
    }
  },
  "cells": [
    {
      "cell_type": "markdown",
      "metadata": {
        "id": "view-in-github",
        "colab_type": "text"
      },
      "source": [
        "<a href=\"https://colab.research.google.com/github/samueljaval/weather-prediction/blob/main/linearRegression.ipynb\" target=\"_parent\"><img src=\"https://colab.research.google.com/assets/colab-badge.svg\" alt=\"Open In Colab\"/></a>"
      ]
    },
    {
      "cell_type": "code",
      "metadata": {
        "id": "4NAao8cC9p6X"
      },
      "source": [
        "import pandas as pd\n",
        "from sklearn.model_selection import train_test_split\n",
        "from sklearn.linear_model import LinearRegression\n",
        "from sklearn.metrics import mean_absolute_error, median_absolute_error\n",
        "import datetime\n",
        "import matplotlib.pyplot as plt"
      ],
      "execution_count": 46,
      "outputs": []
    },
    {
      "cell_type": "markdown",
      "metadata": {
        "id": "iGoQQHH9kMIQ"
      },
      "source": [
        "Let us read the csv file that we generated in the getData.ipynb portion of the project to extract the dataframe with all the data. To run this script, one must run getData.ipynb, download the csv file and import it here."
      ]
    },
    {
      "cell_type": "code",
      "metadata": {
        "id": "M1VfmZwd-eHW"
      },
      "source": [
        "df = pd.read_csv('expanded_data.csv')"
      ],
      "execution_count": 47,
      "outputs": []
    },
    {
      "cell_type": "markdown",
      "metadata": {
        "id": "5lfc7MGqkdEj"
      },
      "source": [
        "Let's look at the average temperature over time, which is the feature we want to predict. By highlighting the last year in our plot, we make it clear that the average temperature is cyclic and more or less repeats every year. "
      ]
    },
    {
      "cell_type": "code",
      "metadata": {
        "colab": {
          "base_uri": "https://localhost:8080/",
          "height": 282
        },
        "id": "96T_DYQn5sKZ",
        "outputId": "50b31077-73e7-48f4-e3b7-123c4974b5e3"
      },
      "source": [
        "plt.plot(list(df['date']), list(df['avgtempC']))\n",
        "plt.plot(list(df['date'].iloc[-365:]), list(df['avgtempC'].iloc[-365:])) #-365 let's us look at the last year "
      ],
      "execution_count": 48,
      "outputs": [
        {
          "output_type": "execute_result",
          "data": {
            "text/plain": [
              "[<matplotlib.lines.Line2D at 0x7f6ba154a5f8>]"
            ]
          },
          "metadata": {
            "tags": []
          },
          "execution_count": 48
        },
        {
          "output_type": "display_data",
          "data": {
            "image/png": "[encoded data removed]",
            "text/plain": [
              "<Figure size 432x288 with 1 Axes>"
            ]
          },
          "metadata": {
            "tags": [],
            "needs_background": "light"
          }
        }
      ]
    },
    {
      "cell_type": "markdown",
      "metadata": {
        "id": "0Wg2KLx4oDIv"
      },
      "source": [
        "Let's take advantage of what we just saw by adding a feature to our dataframe. This feature will be the number of days in the current year until a particular day. "
      ]
    },
    {
      "cell_type": "code",
      "metadata": {
        "id": "wKMmZkC8bbed"
      },
      "source": [
        "day_of_year = []\n",
        "for day in df['date']:\n",
        "  day = datetime.datetime.strptime(day, '%Y-%m-%d')\n",
        "  day_of_year.append((day - pd.Timestamp(year=day.year, month=1, day=1)).days + 1)\n",
        "df['day_of_year']=day_of_year"
      ],
      "execution_count": 49,
      "outputs": []
    },
    {
      "cell_type": "code",
      "metadata": {
        "id": "3qxFz6OlQRGb",
        "colab": {
          "base_uri": "https://localhost:8080/",
          "height": 340
        },
        "outputId": "87b66e9d-6600-4e57-a83a-eb413d46f013"
      },
      "source": [
        "df = df.set_index('date') #just to make the dataframe cleaner\n",
        "df.head()"
      ],
      "execution_count": 50,
      "outputs": [
        {
          "output_type": "execute_result",
          "data": {
            "text/html": [
              "<div>\n",
              "<style scoped>\n",
              "    .dataframe tbody tr th:only-of-type {\n",
              "        vertical-align: middle;\n",
              "    }\n",
              "\n",
              "    .dataframe tbody tr th {\n",
              "        vertical-align: top;\n",
              "    }\n",
              "\n",
              "    .dataframe thead th {\n",
              "        text-align: right;\n",
              "    }\n",
              "</style>\n",
              "<table border=\"1\" class=\"dataframe\">\n",
              "  <thead>\n",
              "    <tr style=\"text-align: right;\">\n",
              "      <th></th>\n",
              "      <th>avgtempC</th>\n",
              "      <th>maxtempC</th>\n",
              "      <th>mintempC</th>\n",
              "      <th>totalSnow_cm</th>\n",
              "      <th>windspeedKmph</th>\n",
              "      <th>winddirDegree</th>\n",
              "      <th>precipMM</th>\n",
              "      <th>humidity</th>\n",
              "      <th>visibility</th>\n",
              "      <th>pressure</th>\n",
              "      <th>cloudcover</th>\n",
              "      <th>DewPointC</th>\n",
              "      <th>WindChillC</th>\n",
              "      <th>FeelsLikeC</th>\n",
              "      <th>avgtempC(-1)</th>\n",
              "      <th>avgtempC(-2)</th>\n",
              "      <th>avgtempC(-3)</th>\n",
              "      <th>maxtempC(-1)</th>\n",
              "      <th>maxtempC(-2)</th>\n",
              "      <th>maxtempC(-3)</th>\n",
              "      <th>mintempC(-1)</th>\n",
              "      <th>mintempC(-2)</th>\n",
              "      <th>mintempC(-3)</th>\n",
              "      <th>totalSnow_cm(-1)</th>\n",
              "      <th>totalSnow_cm(-2)</th>\n",
              "      <th>totalSnow_cm(-3)</th>\n",
              "      <th>windspeedKmph(-1)</th>\n",
              "      <th>windspeedKmph(-2)</th>\n",
              "      <th>windspeedKmph(-3)</th>\n",
              "      <th>winddirDegree(-1)</th>\n",
              "      <th>winddirDegree(-2)</th>\n",
              "      <th>winddirDegree(-3)</th>\n",
              "      <th>precipMM(-1)</th>\n",
              "      <th>precipMM(-2)</th>\n",
              "      <th>precipMM(-3)</th>\n",
              "      <th>humidity(-1)</th>\n",
              "      <th>humidity(-2)</th>\n",
              "      <th>humidity(-3)</th>\n",
              "      <th>visibility(-1)</th>\n",
              "      <th>visibility(-2)</th>\n",
              "      <th>visibility(-3)</th>\n",
              "      <th>pressure(-1)</th>\n",
              "      <th>pressure(-2)</th>\n",
              "      <th>pressure(-3)</th>\n",
              "      <th>cloudcover(-1)</th>\n",
              "      <th>cloudcover(-2)</th>\n",
              "      <th>cloudcover(-3)</th>\n",
              "      <th>DewPointC(-1)</th>\n",
              "      <th>DewPointC(-2)</th>\n",
              "      <th>DewPointC(-3)</th>\n",
              "      <th>WindChillC(-1)</th>\n",
              "      <th>WindChillC(-2)</th>\n",
              "      <th>WindChillC(-3)</th>\n",
              "      <th>FeelsLikeC(-1)</th>\n",
              "      <th>FeelsLikeC(-2)</th>\n",
              "      <th>FeelsLikeC(-3)</th>\n",
              "      <th>day_of_year</th>\n",
              "    </tr>\n",
              "    <tr>\n",
              "      <th>date</th>\n",
              "      <th></th>\n",
              "      <th></th>\n",
              "      <th></th>\n",
              "      <th></th>\n",
              "      <th></th>\n",
              "      <th></th>\n",
              "      <th></th>\n",
              "      <th></th>\n",
              "      <th></th>\n",
              "      <th></th>\n",
              "      <th></th>\n",
              "      <th></th>\n",
              "      <th></th>\n",
              "      <th></th>\n",
              "      <th></th>\n",
              "      <th></th>\n",
              "      <th></th>\n",
              "      <th></th>\n",
              "      <th></th>\n",
              "      <th></th>\n",
              "      <th></th>\n",
              "      <th></th>\n",
              "      <th></th>\n",
              "      <th></th>\n",
              "      <th></th>\n",
              "      <th></th>\n",
              "      <th></th>\n",
              "      <th></th>\n",
              "      <th></th>\n",
              "      <th></th>\n",
              "      <th></th>\n",
              "      <th></th>\n",
              "      <th></th>\n",
              "      <th></th>\n",
              "      <th></th>\n",
              "      <th></th>\n",
              "      <th></th>\n",
              "      <th></th>\n",
              "      <th></th>\n",
              "      <th></th>\n",
              "      <th></th>\n",
              "      <th></th>\n",
              "      <th></th>\n",
              "      <th></th>\n",
              "      <th></th>\n",
              "      <th></th>\n",
              "      <th></th>\n",
              "      <th></th>\n",
              "      <th></th>\n",
              "      <th></th>\n",
              "      <th></th>\n",
              "      <th></th>\n",
              "      <th></th>\n",
              "      <th></th>\n",
              "      <th></th>\n",
              "      <th></th>\n",
              "      <th></th>\n",
              "    </tr>\n",
              "  </thead>\n",
              "  <tbody>\n",
              "    <tr>\n",
              "      <th>2009-01-04</th>\n",
              "      <td>-14</td>\n",
              "      <td>-4</td>\n",
              "      <td>-24</td>\n",
              "      <td>0.0</td>\n",
              "      <td>6.83</td>\n",
              "      <td>300.88</td>\n",
              "      <td>0.0</td>\n",
              "      <td>96.42</td>\n",
              "      <td>2.42</td>\n",
              "      <td>1019.62</td>\n",
              "      <td>18.25</td>\n",
              "      <td>-14.42</td>\n",
              "      <td>-18.29</td>\n",
              "      <td>-18.29</td>\n",
              "      <td>-13.0</td>\n",
              "      <td>-14.0</td>\n",
              "      <td>-9.0</td>\n",
              "      <td>-7.0</td>\n",
              "      <td>-3.0</td>\n",
              "      <td>-3.0</td>\n",
              "      <td>-20.0</td>\n",
              "      <td>-22.0</td>\n",
              "      <td>-21.0</td>\n",
              "      <td>0.2</td>\n",
              "      <td>0.0</td>\n",
              "      <td>0.9</td>\n",
              "      <td>6.75</td>\n",
              "      <td>4.04</td>\n",
              "      <td>7.17</td>\n",
              "      <td>115.92</td>\n",
              "      <td>259.29</td>\n",
              "      <td>226.71</td>\n",
              "      <td>0.0</td>\n",
              "      <td>0.0</td>\n",
              "      <td>1.0</td>\n",
              "      <td>98.38</td>\n",
              "      <td>97.71</td>\n",
              "      <td>97.29</td>\n",
              "      <td>1.67</td>\n",
              "      <td>1.42</td>\n",
              "      <td>2.25</td>\n",
              "      <td>1021.46</td>\n",
              "      <td>1021.12</td>\n",
              "      <td>1025.17</td>\n",
              "      <td>61.67</td>\n",
              "      <td>15.62</td>\n",
              "      <td>37.96</td>\n",
              "      <td>-13.38</td>\n",
              "      <td>-14.21</td>\n",
              "      <td>-9.58</td>\n",
              "      <td>-16.83</td>\n",
              "      <td>-15.62</td>\n",
              "      <td>-11.79</td>\n",
              "      <td>-16.83</td>\n",
              "      <td>-15.62</td>\n",
              "      <td>-11.79</td>\n",
              "      <td>4</td>\n",
              "    </tr>\n",
              "    <tr>\n",
              "      <th>2009-01-05</th>\n",
              "      <td>-13</td>\n",
              "      <td>-8</td>\n",
              "      <td>-18</td>\n",
              "      <td>0.0</td>\n",
              "      <td>7.88</td>\n",
              "      <td>305.08</td>\n",
              "      <td>0.0</td>\n",
              "      <td>93.62</td>\n",
              "      <td>5.75</td>\n",
              "      <td>1015.38</td>\n",
              "      <td>58.50</td>\n",
              "      <td>-14.00</td>\n",
              "      <td>-18.12</td>\n",
              "      <td>-18.12</td>\n",
              "      <td>-14.0</td>\n",
              "      <td>-13.0</td>\n",
              "      <td>-14.0</td>\n",
              "      <td>-4.0</td>\n",
              "      <td>-7.0</td>\n",
              "      <td>-3.0</td>\n",
              "      <td>-24.0</td>\n",
              "      <td>-20.0</td>\n",
              "      <td>-22.0</td>\n",
              "      <td>0.0</td>\n",
              "      <td>0.2</td>\n",
              "      <td>0.0</td>\n",
              "      <td>6.83</td>\n",
              "      <td>6.75</td>\n",
              "      <td>4.04</td>\n",
              "      <td>300.88</td>\n",
              "      <td>115.92</td>\n",
              "      <td>259.29</td>\n",
              "      <td>0.0</td>\n",
              "      <td>0.0</td>\n",
              "      <td>0.0</td>\n",
              "      <td>96.42</td>\n",
              "      <td>98.38</td>\n",
              "      <td>97.71</td>\n",
              "      <td>2.42</td>\n",
              "      <td>1.67</td>\n",
              "      <td>1.42</td>\n",
              "      <td>1019.62</td>\n",
              "      <td>1021.46</td>\n",
              "      <td>1021.12</td>\n",
              "      <td>18.25</td>\n",
              "      <td>61.67</td>\n",
              "      <td>15.62</td>\n",
              "      <td>-14.42</td>\n",
              "      <td>-13.38</td>\n",
              "      <td>-14.21</td>\n",
              "      <td>-18.29</td>\n",
              "      <td>-16.83</td>\n",
              "      <td>-15.62</td>\n",
              "      <td>-18.29</td>\n",
              "      <td>-16.83</td>\n",
              "      <td>-15.62</td>\n",
              "      <td>5</td>\n",
              "    </tr>\n",
              "    <tr>\n",
              "      <th>2009-01-06</th>\n",
              "      <td>-12</td>\n",
              "      <td>-10</td>\n",
              "      <td>-15</td>\n",
              "      <td>2.7</td>\n",
              "      <td>9.08</td>\n",
              "      <td>114.67</td>\n",
              "      <td>3.1</td>\n",
              "      <td>98.00</td>\n",
              "      <td>3.46</td>\n",
              "      <td>1015.04</td>\n",
              "      <td>93.17</td>\n",
              "      <td>-11.71</td>\n",
              "      <td>-16.75</td>\n",
              "      <td>-16.75</td>\n",
              "      <td>-13.0</td>\n",
              "      <td>-14.0</td>\n",
              "      <td>-13.0</td>\n",
              "      <td>-8.0</td>\n",
              "      <td>-4.0</td>\n",
              "      <td>-7.0</td>\n",
              "      <td>-18.0</td>\n",
              "      <td>-24.0</td>\n",
              "      <td>-20.0</td>\n",
              "      <td>0.0</td>\n",
              "      <td>0.0</td>\n",
              "      <td>0.2</td>\n",
              "      <td>7.88</td>\n",
              "      <td>6.83</td>\n",
              "      <td>6.75</td>\n",
              "      <td>305.08</td>\n",
              "      <td>300.88</td>\n",
              "      <td>115.92</td>\n",
              "      <td>0.0</td>\n",
              "      <td>0.0</td>\n",
              "      <td>0.0</td>\n",
              "      <td>93.62</td>\n",
              "      <td>96.42</td>\n",
              "      <td>98.38</td>\n",
              "      <td>5.75</td>\n",
              "      <td>2.42</td>\n",
              "      <td>1.67</td>\n",
              "      <td>1015.38</td>\n",
              "      <td>1019.62</td>\n",
              "      <td>1021.46</td>\n",
              "      <td>58.50</td>\n",
              "      <td>18.25</td>\n",
              "      <td>61.67</td>\n",
              "      <td>-14.00</td>\n",
              "      <td>-14.42</td>\n",
              "      <td>-13.38</td>\n",
              "      <td>-18.12</td>\n",
              "      <td>-18.29</td>\n",
              "      <td>-16.83</td>\n",
              "      <td>-18.12</td>\n",
              "      <td>-18.29</td>\n",
              "      <td>-16.83</td>\n",
              "      <td>6</td>\n",
              "    </tr>\n",
              "    <tr>\n",
              "      <th>2009-01-07</th>\n",
              "      <td>-9</td>\n",
              "      <td>-7</td>\n",
              "      <td>-10</td>\n",
              "      <td>5.1</td>\n",
              "      <td>14.17</td>\n",
              "      <td>99.25</td>\n",
              "      <td>5.9</td>\n",
              "      <td>99.00</td>\n",
              "      <td>5.17</td>\n",
              "      <td>1014.83</td>\n",
              "      <td>100.00</td>\n",
              "      <td>-8.58</td>\n",
              "      <td>-14.50</td>\n",
              "      <td>-14.50</td>\n",
              "      <td>-12.0</td>\n",
              "      <td>-13.0</td>\n",
              "      <td>-14.0</td>\n",
              "      <td>-10.0</td>\n",
              "      <td>-8.0</td>\n",
              "      <td>-4.0</td>\n",
              "      <td>-15.0</td>\n",
              "      <td>-18.0</td>\n",
              "      <td>-24.0</td>\n",
              "      <td>2.7</td>\n",
              "      <td>0.0</td>\n",
              "      <td>0.0</td>\n",
              "      <td>9.08</td>\n",
              "      <td>7.88</td>\n",
              "      <td>6.83</td>\n",
              "      <td>114.67</td>\n",
              "      <td>305.08</td>\n",
              "      <td>300.88</td>\n",
              "      <td>3.1</td>\n",
              "      <td>0.0</td>\n",
              "      <td>0.0</td>\n",
              "      <td>98.00</td>\n",
              "      <td>93.62</td>\n",
              "      <td>96.42</td>\n",
              "      <td>3.46</td>\n",
              "      <td>5.75</td>\n",
              "      <td>2.42</td>\n",
              "      <td>1015.04</td>\n",
              "      <td>1015.38</td>\n",
              "      <td>1019.62</td>\n",
              "      <td>93.17</td>\n",
              "      <td>58.50</td>\n",
              "      <td>18.25</td>\n",
              "      <td>-11.71</td>\n",
              "      <td>-14.00</td>\n",
              "      <td>-14.42</td>\n",
              "      <td>-16.75</td>\n",
              "      <td>-18.12</td>\n",
              "      <td>-18.29</td>\n",
              "      <td>-16.75</td>\n",
              "      <td>-18.12</td>\n",
              "      <td>-18.29</td>\n",
              "      <td>7</td>\n",
              "    </tr>\n",
              "    <tr>\n",
              "      <th>2009-01-08</th>\n",
              "      <td>-7</td>\n",
              "      <td>-6</td>\n",
              "      <td>-9</td>\n",
              "      <td>1.8</td>\n",
              "      <td>12.54</td>\n",
              "      <td>118.88</td>\n",
              "      <td>2.0</td>\n",
              "      <td>99.00</td>\n",
              "      <td>4.71</td>\n",
              "      <td>1022.17</td>\n",
              "      <td>100.00</td>\n",
              "      <td>-7.04</td>\n",
              "      <td>-12.29</td>\n",
              "      <td>-12.29</td>\n",
              "      <td>-9.0</td>\n",
              "      <td>-12.0</td>\n",
              "      <td>-13.0</td>\n",
              "      <td>-7.0</td>\n",
              "      <td>-10.0</td>\n",
              "      <td>-8.0</td>\n",
              "      <td>-10.0</td>\n",
              "      <td>-15.0</td>\n",
              "      <td>-18.0</td>\n",
              "      <td>5.1</td>\n",
              "      <td>2.7</td>\n",
              "      <td>0.0</td>\n",
              "      <td>14.17</td>\n",
              "      <td>9.08</td>\n",
              "      <td>7.88</td>\n",
              "      <td>99.25</td>\n",
              "      <td>114.67</td>\n",
              "      <td>305.08</td>\n",
              "      <td>5.9</td>\n",
              "      <td>3.1</td>\n",
              "      <td>0.0</td>\n",
              "      <td>99.00</td>\n",
              "      <td>98.00</td>\n",
              "      <td>93.62</td>\n",
              "      <td>5.17</td>\n",
              "      <td>3.46</td>\n",
              "      <td>5.75</td>\n",
              "      <td>1014.83</td>\n",
              "      <td>1015.04</td>\n",
              "      <td>1015.38</td>\n",
              "      <td>100.00</td>\n",
              "      <td>93.17</td>\n",
              "      <td>58.50</td>\n",
              "      <td>-8.58</td>\n",
              "      <td>-11.71</td>\n",
              "      <td>-14.00</td>\n",
              "      <td>-14.50</td>\n",
              "      <td>-16.75</td>\n",
              "      <td>-18.12</td>\n",
              "      <td>-14.50</td>\n",
              "      <td>-16.75</td>\n",
              "      <td>-18.12</td>\n",
              "      <td>8</td>\n",
              "    </tr>\n",
              "  </tbody>\n",
              "</table>\n",
              "</div>"
            ],
            "text/plain": [
              "            avgtempC  maxtempC  ...  FeelsLikeC(-3)  day_of_year\n",
              "date                            ...                             \n",
              "2009-01-04       -14        -4  ...          -11.79            4\n",
              "2009-01-05       -13        -8  ...          -15.62            5\n",
              "2009-01-06       -12       -10  ...          -16.83            6\n",
              "2009-01-07        -9        -7  ...          -18.29            7\n",
              "2009-01-08        -7        -6  ...          -18.12            8\n",
              "\n",
              "[5 rows x 57 columns]"
            ]
          },
          "metadata": {
            "tags": []
          },
          "execution_count": 50
        }
      ]
    },
    {
      "cell_type": "markdown",
      "metadata": {
        "id": "FJ_IYmETo_1n"
      },
      "source": [
        "This 'to_predict' variable represents the feature we want to predict. The code os structure in a way that if we want to predict something else then we can just change the value of that variable."
      ]
    },
    {
      "cell_type": "code",
      "metadata": {
        "id": "VzhlpzQuVrES"
      },
      "source": [
        "to_predict = 'avgtempC'"
      ],
      "execution_count": 51,
      "outputs": []
    },
    {
      "cell_type": "markdown",
      "metadata": {
        "id": "vH2FiAEbpOlK"
      },
      "source": [
        "Here we select features based on the pearson correlation values between avgtempC and all the other features. We keep a feature if the absolute value of the pearson correlation value is above 0.2. A negative value refers to a negative correlation and a postive value refers to a postive correlation, which is why we look at the absolute value. "
      ]
    },
    {
      "cell_type": "markdown",
      "metadata": {
        "id": "cTpOziRspqK6"
      },
      "source": [
        "We will also create a new dataframe that only keeps the values from the previous days since we want to be predicting the average temperature for a particular day without knowing anything from that day. That's what we are doing when we use the filter function to only keep column names that have a '('."
      ]
    },
    {
      "cell_type": "code",
      "metadata": {
        "id": "mbcMP2E6oUpX",
        "colab": {
          "base_uri": "https://localhost:8080/"
        },
        "outputId": "807d7f7f-f437-4be5-be1a-a08845c26071"
      },
      "source": [
        "features_of_interest = []\n",
        "corr = df.corr()[[to_predict]].sort_values(to_predict)\n",
        "for index in corr.index:\n",
        "  if corr[to_predict][index] > 0.2 or corr[to_predict][index] < -0.2:\n",
        "    features_of_interest.append(index)\n",
        "features_of_interest = list(filter(lambda x : x[-1]==')',features_of_interest))\n",
        "print(features_of_interest)\n",
        "\n",
        "reduced_df = df[features_of_interest]"
      ],
      "execution_count": 52,
      "outputs": [
        {
          "output_type": "stream",
          "text": [
            "['humidity(-1)', 'humidity(-2)', 'humidity(-3)', 'windspeedKmph(-1)', 'windspeedKmph(-2)', 'cloudcover(-2)', 'cloudcover(-1)', 'windspeedKmph(-3)', 'cloudcover(-3)', 'visibility(-3)', 'visibility(-2)', 'visibility(-1)', 'mintempC(-3)', 'DewPointC(-3)', 'mintempC(-2)', 'DewPointC(-2)', 'mintempC(-1)', 'maxtempC(-3)', 'WindChillC(-3)', 'FeelsLikeC(-3)', 'DewPointC(-1)', 'avgtempC(-3)', 'maxtempC(-2)', 'WindChillC(-2)', 'FeelsLikeC(-2)', 'avgtempC(-2)', 'maxtempC(-1)', 'WindChillC(-1)', 'avgtempC(-1)', 'FeelsLikeC(-1)']\n"
          ],
          "name": "stdout"
        }
      ]
    },
    {
      "cell_type": "code",
      "metadata": {
        "id": "sRFqJt4uw5KB",
        "colab": {
          "base_uri": "https://localhost:8080/",
          "height": 340
        },
        "outputId": "4f8cf578-0db4-420f-c693-154c04cad6e2"
      },
      "source": [
        "reduced_df.head()"
      ],
      "execution_count": 53,
      "outputs": [
        {
          "output_type": "execute_result",
          "data": {
            "text/html": [
              "<div>\n",
              "<style scoped>\n",
              "    .dataframe tbody tr th:only-of-type {\n",
              "        vertical-align: middle;\n",
              "    }\n",
              "\n",
              "    .dataframe tbody tr th {\n",
              "        vertical-align: top;\n",
              "    }\n",
              "\n",
              "    .dataframe thead th {\n",
              "        text-align: right;\n",
              "    }\n",
              "</style>\n",
              "<table border=\"1\" class=\"dataframe\">\n",
              "  <thead>\n",
              "    <tr style=\"text-align: right;\">\n",
              "      <th></th>\n",
              "      <th>humidity(-1)</th>\n",
              "      <th>humidity(-2)</th>\n",
              "      <th>humidity(-3)</th>\n",
              "      <th>windspeedKmph(-1)</th>\n",
              "      <th>windspeedKmph(-2)</th>\n",
              "      <th>cloudcover(-2)</th>\n",
              "      <th>cloudcover(-1)</th>\n",
              "      <th>windspeedKmph(-3)</th>\n",
              "      <th>cloudcover(-3)</th>\n",
              "      <th>visibility(-3)</th>\n",
              "      <th>visibility(-2)</th>\n",
              "      <th>visibility(-1)</th>\n",
              "      <th>mintempC(-3)</th>\n",
              "      <th>DewPointC(-3)</th>\n",
              "      <th>mintempC(-2)</th>\n",
              "      <th>DewPointC(-2)</th>\n",
              "      <th>mintempC(-1)</th>\n",
              "      <th>maxtempC(-3)</th>\n",
              "      <th>WindChillC(-3)</th>\n",
              "      <th>FeelsLikeC(-3)</th>\n",
              "      <th>DewPointC(-1)</th>\n",
              "      <th>avgtempC(-3)</th>\n",
              "      <th>maxtempC(-2)</th>\n",
              "      <th>WindChillC(-2)</th>\n",
              "      <th>FeelsLikeC(-2)</th>\n",
              "      <th>avgtempC(-2)</th>\n",
              "      <th>maxtempC(-1)</th>\n",
              "      <th>WindChillC(-1)</th>\n",
              "      <th>avgtempC(-1)</th>\n",
              "      <th>FeelsLikeC(-1)</th>\n",
              "    </tr>\n",
              "    <tr>\n",
              "      <th>date</th>\n",
              "      <th></th>\n",
              "      <th></th>\n",
              "      <th></th>\n",
              "      <th></th>\n",
              "      <th></th>\n",
              "      <th></th>\n",
              "      <th></th>\n",
              "      <th></th>\n",
              "      <th></th>\n",
              "      <th></th>\n",
              "      <th></th>\n",
              "      <th></th>\n",
              "      <th></th>\n",
              "      <th></th>\n",
              "      <th></th>\n",
              "      <th></th>\n",
              "      <th></th>\n",
              "      <th></th>\n",
              "      <th></th>\n",
              "      <th></th>\n",
              "      <th></th>\n",
              "      <th></th>\n",
              "      <th></th>\n",
              "      <th></th>\n",
              "      <th></th>\n",
              "      <th></th>\n",
              "      <th></th>\n",
              "      <th></th>\n",
              "      <th></th>\n",
              "      <th></th>\n",
              "    </tr>\n",
              "  </thead>\n",
              "  <tbody>\n",
              "    <tr>\n",
              "      <th>2009-01-04</th>\n",
              "      <td>98.38</td>\n",
              "      <td>97.71</td>\n",
              "      <td>97.29</td>\n",
              "      <td>6.75</td>\n",
              "      <td>4.04</td>\n",
              "      <td>15.62</td>\n",
              "      <td>61.67</td>\n",
              "      <td>7.17</td>\n",
              "      <td>37.96</td>\n",
              "      <td>2.25</td>\n",
              "      <td>1.42</td>\n",
              "      <td>1.67</td>\n",
              "      <td>-21.0</td>\n",
              "      <td>-9.58</td>\n",
              "      <td>-22.0</td>\n",
              "      <td>-14.21</td>\n",
              "      <td>-20.0</td>\n",
              "      <td>-3.0</td>\n",
              "      <td>-11.79</td>\n",
              "      <td>-11.79</td>\n",
              "      <td>-13.38</td>\n",
              "      <td>-9.0</td>\n",
              "      <td>-3.0</td>\n",
              "      <td>-15.62</td>\n",
              "      <td>-15.62</td>\n",
              "      <td>-14.0</td>\n",
              "      <td>-7.0</td>\n",
              "      <td>-16.83</td>\n",
              "      <td>-13.0</td>\n",
              "      <td>-16.83</td>\n",
              "    </tr>\n",
              "    <tr>\n",
              "      <th>2009-01-05</th>\n",
              "      <td>96.42</td>\n",
              "      <td>98.38</td>\n",
              "      <td>97.71</td>\n",
              "      <td>6.83</td>\n",
              "      <td>6.75</td>\n",
              "      <td>61.67</td>\n",
              "      <td>18.25</td>\n",
              "      <td>4.04</td>\n",
              "      <td>15.62</td>\n",
              "      <td>1.42</td>\n",
              "      <td>1.67</td>\n",
              "      <td>2.42</td>\n",
              "      <td>-22.0</td>\n",
              "      <td>-14.21</td>\n",
              "      <td>-20.0</td>\n",
              "      <td>-13.38</td>\n",
              "      <td>-24.0</td>\n",
              "      <td>-3.0</td>\n",
              "      <td>-15.62</td>\n",
              "      <td>-15.62</td>\n",
              "      <td>-14.42</td>\n",
              "      <td>-14.0</td>\n",
              "      <td>-7.0</td>\n",
              "      <td>-16.83</td>\n",
              "      <td>-16.83</td>\n",
              "      <td>-13.0</td>\n",
              "      <td>-4.0</td>\n",
              "      <td>-18.29</td>\n",
              "      <td>-14.0</td>\n",
              "      <td>-18.29</td>\n",
              "    </tr>\n",
              "    <tr>\n",
              "      <th>2009-01-06</th>\n",
              "      <td>93.62</td>\n",
              "      <td>96.42</td>\n",
              "      <td>98.38</td>\n",
              "      <td>7.88</td>\n",
              "      <td>6.83</td>\n",
              "      <td>18.25</td>\n",
              "      <td>58.50</td>\n",
              "      <td>6.75</td>\n",
              "      <td>61.67</td>\n",
              "      <td>1.67</td>\n",
              "      <td>2.42</td>\n",
              "      <td>5.75</td>\n",
              "      <td>-20.0</td>\n",
              "      <td>-13.38</td>\n",
              "      <td>-24.0</td>\n",
              "      <td>-14.42</td>\n",
              "      <td>-18.0</td>\n",
              "      <td>-7.0</td>\n",
              "      <td>-16.83</td>\n",
              "      <td>-16.83</td>\n",
              "      <td>-14.00</td>\n",
              "      <td>-13.0</td>\n",
              "      <td>-4.0</td>\n",
              "      <td>-18.29</td>\n",
              "      <td>-18.29</td>\n",
              "      <td>-14.0</td>\n",
              "      <td>-8.0</td>\n",
              "      <td>-18.12</td>\n",
              "      <td>-13.0</td>\n",
              "      <td>-18.12</td>\n",
              "    </tr>\n",
              "    <tr>\n",
              "      <th>2009-01-07</th>\n",
              "      <td>98.00</td>\n",
              "      <td>93.62</td>\n",
              "      <td>96.42</td>\n",
              "      <td>9.08</td>\n",
              "      <td>7.88</td>\n",
              "      <td>58.50</td>\n",
              "      <td>93.17</td>\n",
              "      <td>6.83</td>\n",
              "      <td>18.25</td>\n",
              "      <td>2.42</td>\n",
              "      <td>5.75</td>\n",
              "      <td>3.46</td>\n",
              "      <td>-24.0</td>\n",
              "      <td>-14.42</td>\n",
              "      <td>-18.0</td>\n",
              "      <td>-14.00</td>\n",
              "      <td>-15.0</td>\n",
              "      <td>-4.0</td>\n",
              "      <td>-18.29</td>\n",
              "      <td>-18.29</td>\n",
              "      <td>-11.71</td>\n",
              "      <td>-14.0</td>\n",
              "      <td>-8.0</td>\n",
              "      <td>-18.12</td>\n",
              "      <td>-18.12</td>\n",
              "      <td>-13.0</td>\n",
              "      <td>-10.0</td>\n",
              "      <td>-16.75</td>\n",
              "      <td>-12.0</td>\n",
              "      <td>-16.75</td>\n",
              "    </tr>\n",
              "    <tr>\n",
              "      <th>2009-01-08</th>\n",
              "      <td>99.00</td>\n",
              "      <td>98.00</td>\n",
              "      <td>93.62</td>\n",
              "      <td>14.17</td>\n",
              "      <td>9.08</td>\n",
              "      <td>93.17</td>\n",
              "      <td>100.00</td>\n",
              "      <td>7.88</td>\n",
              "      <td>58.50</td>\n",
              "      <td>5.75</td>\n",
              "      <td>3.46</td>\n",
              "      <td>5.17</td>\n",
              "      <td>-18.0</td>\n",
              "      <td>-14.00</td>\n",
              "      <td>-15.0</td>\n",
              "      <td>-11.71</td>\n",
              "      <td>-10.0</td>\n",
              "      <td>-8.0</td>\n",
              "      <td>-18.12</td>\n",
              "      <td>-18.12</td>\n",
              "      <td>-8.58</td>\n",
              "      <td>-13.0</td>\n",
              "      <td>-10.0</td>\n",
              "      <td>-16.75</td>\n",
              "      <td>-16.75</td>\n",
              "      <td>-12.0</td>\n",
              "      <td>-7.0</td>\n",
              "      <td>-14.50</td>\n",
              "      <td>-9.0</td>\n",
              "      <td>-14.50</td>\n",
              "    </tr>\n",
              "  </tbody>\n",
              "</table>\n",
              "</div>"
            ],
            "text/plain": [
              "            humidity(-1)  humidity(-2)  ...  avgtempC(-1)  FeelsLikeC(-1)\n",
              "date                                    ...                              \n",
              "2009-01-04         98.38         97.71  ...         -13.0          -16.83\n",
              "2009-01-05         96.42         98.38  ...         -14.0          -18.29\n",
              "2009-01-06         93.62         96.42  ...         -13.0          -18.12\n",
              "2009-01-07         98.00         93.62  ...         -12.0          -16.75\n",
              "2009-01-08         99.00         98.00  ...          -9.0          -14.50\n",
              "\n",
              "[5 rows x 30 columns]"
            ]
          },
          "metadata": {
            "tags": []
          },
          "execution_count": 53
        }
      ]
    },
    {
      "cell_type": "markdown",
      "metadata": {
        "id": "xI9YCiQ-qdsU"
      },
      "source": [
        "We now proceed to seprating the feature we want to predict from the features we use to make our prediction. We have the average temperature in the $y$ dataframe and the other features in the $X$ dataframe. This is the widely used convetion when doing this kind of seperation. "
      ]
    },
    {
      "cell_type": "code",
      "metadata": {
        "id": "Z3gTmwpZ5nJq"
      },
      "source": [
        "no_to_predict = features_of_interest.copy()\n",
        "y = df[to_predict]\n",
        "X = reduced_df[no_to_predict] "
      ],
      "execution_count": 54,
      "outputs": []
    },
    {
      "cell_type": "markdown",
      "metadata": {
        "id": "GBz42SFsq2zl"
      },
      "source": [
        "Let's split the $X$ and $y$ dataframes into test and train sets. We use 80% of the data for training and 20% for testing. We use a built in sklearn function for that and the parameter 'random_state' is just for reproducibility since the dataset is being shuffled."
      ]
    },
    {
      "cell_type": "code",
      "metadata": {
        "id": "yTJaD9Z36PgP"
      },
      "source": [
        "X_train, X_test, y_train, y_test = train_test_split(X, y, test_size=0.2, random_state=7)"
      ],
      "execution_count": 55,
      "outputs": []
    },
    {
      "cell_type": "markdown",
      "metadata": {
        "id": "8MNaNW4drZpd"
      },
      "source": [
        "This is the core of this script, using scikit leanrn's linear regressor. The fit function will train the model with the traning set and the predict function will test the model with the testing set."
      ]
    },
    {
      "cell_type": "code",
      "metadata": {
        "id": "bEqloB5O6pmj"
      },
      "source": [
        "regressor = LinearRegression()\n",
        "regressor.fit(X_train, y_train)\n",
        "preds = regressor.predict(X_test)"
      ],
      "execution_count": 81,
      "outputs": []
    },
    {
      "cell_type": "markdown",
      "metadata": {
        "id": "iyyjmpoCsBBE"
      },
      "source": [
        "Let's have a quick look at some of the prediction we made on the testing set by comparing them to the actual value."
      ]
    },
    {
      "cell_type": "code",
      "metadata": {
        "id": "312-esrk-_oB"
      },
      "source": [
        "df2 = pd.DataFrame({'real temp (°C)': y_test, 'predicted tem (°C)': preds})"
      ],
      "execution_count": 82,
      "outputs": []
    },
    {
      "cell_type": "code",
      "metadata": {
        "colab": {
          "base_uri": "https://localhost:8080/",
          "height": 235
        },
        "id": "cDfY0j86uq5U",
        "outputId": "c07d959a-520e-4099-f8b1-86e3f38da6b6"
      },
      "source": [
        "df2.head()"
      ],
      "execution_count": 83,
      "outputs": [
        {
          "output_type": "execute_result",
          "data": {
            "text/html": [
              "<div>\n",
              "<style scoped>\n",
              "    .dataframe tbody tr th:only-of-type {\n",
              "        vertical-align: middle;\n",
              "    }\n",
              "\n",
              "    .dataframe tbody tr th {\n",
              "        vertical-align: top;\n",
              "    }\n",
              "\n",
              "    .dataframe thead th {\n",
              "        text-align: right;\n",
              "    }\n",
              "</style>\n",
              "<table border=\"1\" class=\"dataframe\">\n",
              "  <thead>\n",
              "    <tr style=\"text-align: right;\">\n",
              "      <th></th>\n",
              "      <th>real temp (°C)</th>\n",
              "      <th>predicted tem (°C)</th>\n",
              "    </tr>\n",
              "    <tr>\n",
              "      <th>date</th>\n",
              "      <th></th>\n",
              "      <th></th>\n",
              "    </tr>\n",
              "  </thead>\n",
              "  <tbody>\n",
              "    <tr>\n",
              "      <th>2019-07-08</th>\n",
              "      <td>13</td>\n",
              "      <td>12.307480</td>\n",
              "    </tr>\n",
              "    <tr>\n",
              "      <th>2017-04-22</th>\n",
              "      <td>-3</td>\n",
              "      <td>-5.274142</td>\n",
              "    </tr>\n",
              "    <tr>\n",
              "      <th>2017-06-28</th>\n",
              "      <td>6</td>\n",
              "      <td>8.698783</td>\n",
              "    </tr>\n",
              "    <tr>\n",
              "      <th>2010-03-26</th>\n",
              "      <td>-1</td>\n",
              "      <td>-1.028636</td>\n",
              "    </tr>\n",
              "    <tr>\n",
              "      <th>2018-10-14</th>\n",
              "      <td>2</td>\n",
              "      <td>3.845173</td>\n",
              "    </tr>\n",
              "  </tbody>\n",
              "</table>\n",
              "</div>"
            ],
            "text/plain": [
              "            real temp (°C)  predicted tem (°C)\n",
              "date                                          \n",
              "2019-07-08              13           12.307480\n",
              "2017-04-22              -3           -5.274142\n",
              "2017-06-28               6            8.698783\n",
              "2010-03-26              -1           -1.028636\n",
              "2018-10-14               2            3.845173"
            ]
          },
          "metadata": {
            "tags": []
          },
          "execution_count": 83
        }
      ]
    },
    {
      "cell_type": "code",
      "metadata": {
        "colab": {
          "base_uri": "https://localhost:8080/",
          "height": 297
        },
        "id": "t7mjHaWCtxyz",
        "outputId": "54a7caa9-b3b0-472f-80db-53d5f6e0ae43"
      },
      "source": [
        "df2.describe()"
      ],
      "execution_count": 75,
      "outputs": [
        {
          "output_type": "execute_result",
          "data": {
            "text/html": [
              "<div>\n",
              "<style scoped>\n",
              "    .dataframe tbody tr th:only-of-type {\n",
              "        vertical-align: middle;\n",
              "    }\n",
              "\n",
              "    .dataframe tbody tr th {\n",
              "        vertical-align: top;\n",
              "    }\n",
              "\n",
              "    .dataframe thead th {\n",
              "        text-align: right;\n",
              "    }\n",
              "</style>\n",
              "<table border=\"1\" class=\"dataframe\">\n",
              "  <thead>\n",
              "    <tr style=\"text-align: right;\">\n",
              "      <th></th>\n",
              "      <th>real temp (°C)</th>\n",
              "      <th>predicted tem (°C)</th>\n",
              "    </tr>\n",
              "  </thead>\n",
              "  <tbody>\n",
              "    <tr>\n",
              "      <th>count</th>\n",
              "      <td>803.000000</td>\n",
              "      <td>803.000000</td>\n",
              "    </tr>\n",
              "    <tr>\n",
              "      <th>mean</th>\n",
              "      <td>-0.246575</td>\n",
              "      <td>-0.198563</td>\n",
              "    </tr>\n",
              "    <tr>\n",
              "      <th>std</th>\n",
              "      <td>7.929803</td>\n",
              "      <td>7.449193</td>\n",
              "    </tr>\n",
              "    <tr>\n",
              "      <th>min</th>\n",
              "      <td>-21.000000</td>\n",
              "      <td>-21.152417</td>\n",
              "    </tr>\n",
              "    <tr>\n",
              "      <th>25%</th>\n",
              "      <td>-6.000000</td>\n",
              "      <td>-5.922313</td>\n",
              "    </tr>\n",
              "    <tr>\n",
              "      <th>50%</th>\n",
              "      <td>-1.000000</td>\n",
              "      <td>-0.581652</td>\n",
              "    </tr>\n",
              "    <tr>\n",
              "      <th>75%</th>\n",
              "      <td>6.000000</td>\n",
              "      <td>5.983394</td>\n",
              "    </tr>\n",
              "    <tr>\n",
              "      <th>max</th>\n",
              "      <td>20.000000</td>\n",
              "      <td>17.283453</td>\n",
              "    </tr>\n",
              "  </tbody>\n",
              "</table>\n",
              "</div>"
            ],
            "text/plain": [
              "       real temp (°C)  predicted tem (°C)\n",
              "count      803.000000          803.000000\n",
              "mean        -0.246575           -0.198563\n",
              "std          7.929803            7.449193\n",
              "min        -21.000000          -21.152417\n",
              "25%         -6.000000           -5.922313\n",
              "50%         -1.000000           -0.581652\n",
              "75%          6.000000            5.983394\n",
              "max         20.000000           17.283453"
            ]
          },
          "metadata": {
            "tags": []
          },
          "execution_count": 75
        }
      ]
    },
    {
      "cell_type": "code",
      "metadata": {
        "colab": {
          "base_uri": "https://localhost:8080/",
          "height": 282
        },
        "id": "LipR3hgwuuTG",
        "outputId": "95896d0a-9f30-41cd-ad7f-e0c3f0c94f23"
      },
      "source": [
        "plt.plot(list(y_test)[-50:]) #the last 50 entries in the testing set\n",
        "plt.plot(list(preds)[-50:])"
      ],
      "execution_count": 84,
      "outputs": [
        {
          "output_type": "execute_result",
          "data": {
            "text/plain": [
              "[<matplotlib.lines.Line2D at 0x7f6b9e018630>]"
            ]
          },
          "metadata": {
            "tags": []
          },
          "execution_count": 84
        },
        {
          "output_type": "display_data",
          "data": {
            "image/png": "[encoded data removed]",
            "text/plain": [
              "<Figure size 432x288 with 1 Axes>"
            ]
          },
          "metadata": {
            "tags": [],
            "needs_background": "light"
          }
        }
      ]
    },
    {
      "cell_type": "markdown",
      "metadata": {
        "id": "jImLDbhgsM4L"
      },
      "source": [
        "We can get an even better sense for how good our model is performing by using scikit learn's score and mean_absolute error function. "
      ]
    },
    {
      "cell_type": "code",
      "metadata": {
        "id": "lQ1I0nDvDCer",
        "colab": {
          "base_uri": "https://localhost:8080/"
        },
        "outputId": "34bd2d9a-b37b-44a7-ed65-ece0326cde97"
      },
      "source": [
        "print(f'accuracy = {str(regressor.score(X_test, y_test)*100)[0:5]}%')\n",
        "print(f'mean absolute error = {str(mean_absolute_error(y_test, prediction))[0:5]}°C')"
      ],
      "execution_count": 59,
      "outputs": [
        {
          "output_type": "stream",
          "text": [
            "accuracy = 92.25%\n",
            "mean absolute error = 1.676°C\n"
          ],
          "name": "stdout"
        }
      ]
    }
  ]
}